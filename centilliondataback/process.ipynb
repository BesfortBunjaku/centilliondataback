{
 "cells": [
  {
   "cell_type": "code",
   "execution_count": 4,
   "metadata": {},
   "outputs": [
    {
     "ename": "KeyboardInterrupt",
     "evalue": "",
     "output_type": "error",
     "traceback": [
      "\u001b[1;31m---------------------------------------------------------------------------\u001b[0m",
      "\u001b[1;31mKeyboardInterrupt\u001b[0m                         Traceback (most recent call last)",
      "\u001b[1;32mc:\\Users\\besff\\OneDrive\\Documents\\GitHub\\centilliondataback\\centilliondataback\\process.ipynb Cell 1\u001b[0m line \u001b[0;36m1\n\u001b[0;32m      <a href='vscode-notebook-cell:/c%3A/Users/besff/OneDrive/Documents/GitHub/centilliondataback/centilliondataback/process.ipynb#W0sZmlsZQ%3D%3D?line=8'>9</a>\u001b[0m df \u001b[39m=\u001b[39m df\u001b[39m.\u001b[39mto_dict(\u001b[39m'\u001b[39m\u001b[39mrecords\u001b[39m\u001b[39m'\u001b[39m)\n\u001b[0;32m     <a href='vscode-notebook-cell:/c%3A/Users/besff/OneDrive/Documents/GitHub/centilliondataback/centilliondataback/process.ipynb#W0sZmlsZQ%3D%3D?line=10'>11</a>\u001b[0m \u001b[39m# # Insert collection\u001b[39;00m\n\u001b[1;32m---> <a href='vscode-notebook-cell:/c%3A/Users/besff/OneDrive/Documents/GitHub/centilliondataback/centilliondataback/process.ipynb#W0sZmlsZQ%3D%3D?line=11'>12</a>\u001b[0m collection\u001b[39m.\u001b[39;49minsert_many(df)\n",
      "File \u001b[1;32mc:\\Users\\besff\\AppData\\Local\\pypoetry\\Cache\\virtualenvs\\centilliondataback-HDv_8VdR-py3.11\\Lib\\site-packages\\pymongo\\_csot.py:108\u001b[0m, in \u001b[0;36mapply.<locals>.csot_wrapper\u001b[1;34m(self, *args, **kwargs)\u001b[0m\n\u001b[0;32m    106\u001b[0m         \u001b[39mwith\u001b[39;00m _TimeoutContext(timeout):\n\u001b[0;32m    107\u001b[0m             \u001b[39mreturn\u001b[39;00m func(\u001b[39mself\u001b[39m, \u001b[39m*\u001b[39margs, \u001b[39m*\u001b[39m\u001b[39m*\u001b[39mkwargs)\n\u001b[1;32m--> 108\u001b[0m \u001b[39mreturn\u001b[39;00m func(\u001b[39mself\u001b[39;49m, \u001b[39m*\u001b[39;49margs, \u001b[39m*\u001b[39;49m\u001b[39m*\u001b[39;49mkwargs)\n",
      "File \u001b[1;32mc:\\Users\\besff\\AppData\\Local\\pypoetry\\Cache\\virtualenvs\\centilliondataback-HDv_8VdR-py3.11\\Lib\\site-packages\\pymongo\\collection.py:757\u001b[0m, in \u001b[0;36mCollection.insert_many\u001b[1;34m(self, documents, ordered, bypass_document_validation, session, comment)\u001b[0m\n\u001b[0;32m    755\u001b[0m blk \u001b[39m=\u001b[39m _Bulk(\u001b[39mself\u001b[39m, ordered, bypass_document_validation, comment\u001b[39m=\u001b[39mcomment)\n\u001b[0;32m    756\u001b[0m blk\u001b[39m.\u001b[39mops \u001b[39m=\u001b[39m \u001b[39mlist\u001b[39m(gen())\n\u001b[1;32m--> 757\u001b[0m blk\u001b[39m.\u001b[39;49mexecute(write_concern, session\u001b[39m=\u001b[39;49msession)\n\u001b[0;32m    758\u001b[0m \u001b[39mreturn\u001b[39;00m InsertManyResult(inserted_ids, write_concern\u001b[39m.\u001b[39macknowledged)\n",
      "File \u001b[1;32mc:\\Users\\besff\\AppData\\Local\\pypoetry\\Cache\\virtualenvs\\centilliondataback-HDv_8VdR-py3.11\\Lib\\site-packages\\pymongo\\bulk.py:580\u001b[0m, in \u001b[0;36m_Bulk.execute\u001b[1;34m(self, write_concern, session)\u001b[0m\n\u001b[0;32m    578\u001b[0m         \u001b[39mreturn\u001b[39;00m \u001b[39mNone\u001b[39;00m\n\u001b[0;32m    579\u001b[0m \u001b[39melse\u001b[39;00m:\n\u001b[1;32m--> 580\u001b[0m     \u001b[39mreturn\u001b[39;00m \u001b[39mself\u001b[39;49m\u001b[39m.\u001b[39;49mexecute_command(generator, write_concern, session)\n",
      "File \u001b[1;32mc:\\Users\\besff\\AppData\\Local\\pypoetry\\Cache\\virtualenvs\\centilliondataback-HDv_8VdR-py3.11\\Lib\\site-packages\\pymongo\\bulk.py:446\u001b[0m, in \u001b[0;36m_Bulk.execute_command\u001b[1;34m(self, generator, write_concern, session)\u001b[0m\n\u001b[0;32m    435\u001b[0m     \u001b[39mself\u001b[39m\u001b[39m.\u001b[39m_execute_command(\n\u001b[0;32m    436\u001b[0m         generator,\n\u001b[0;32m    437\u001b[0m         write_concern,\n\u001b[1;32m   (...)\u001b[0m\n\u001b[0;32m    442\u001b[0m         full_result,\n\u001b[0;32m    443\u001b[0m     )\n\u001b[0;32m    445\u001b[0m client \u001b[39m=\u001b[39m \u001b[39mself\u001b[39m\u001b[39m.\u001b[39mcollection\u001b[39m.\u001b[39mdatabase\u001b[39m.\u001b[39mclient\n\u001b[1;32m--> 446\u001b[0m \u001b[39mwith\u001b[39;49;00m client\u001b[39m.\u001b[39;49m_tmp_session(session) \u001b[39mas\u001b[39;49;00m s:\n\u001b[0;32m    447\u001b[0m     client\u001b[39m.\u001b[39;49m_retry_with_session(\u001b[39mself\u001b[39;49m\u001b[39m.\u001b[39;49mis_retryable, retryable_bulk, s, \u001b[39mself\u001b[39;49m)\n\u001b[0;32m    449\u001b[0m \u001b[39mif\u001b[39;00m full_result[\u001b[39m\"\u001b[39m\u001b[39mwriteErrors\u001b[39m\u001b[39m\"\u001b[39m] \u001b[39mor\u001b[39;00m full_result[\u001b[39m\"\u001b[39m\u001b[39mwriteConcernErrors\u001b[39m\u001b[39m\"\u001b[39m]:\n",
      "File \u001b[1;32m~\\.pyenv\\pyenv-win\\versions\\3.11.2\\Lib\\contextlib.py:137\u001b[0m, in \u001b[0;36m_GeneratorContextManager.__enter__\u001b[1;34m(self)\u001b[0m\n\u001b[0;32m    135\u001b[0m \u001b[39mdel\u001b[39;00m \u001b[39mself\u001b[39m\u001b[39m.\u001b[39margs, \u001b[39mself\u001b[39m\u001b[39m.\u001b[39mkwds, \u001b[39mself\u001b[39m\u001b[39m.\u001b[39mfunc\n\u001b[0;32m    136\u001b[0m \u001b[39mtry\u001b[39;00m:\n\u001b[1;32m--> 137\u001b[0m     \u001b[39mreturn\u001b[39;00m \u001b[39mnext\u001b[39m(\u001b[39mself\u001b[39m\u001b[39m.\u001b[39mgen)\n\u001b[0;32m    138\u001b[0m \u001b[39mexcept\u001b[39;00m \u001b[39mStopIteration\u001b[39;00m:\n\u001b[0;32m    139\u001b[0m     \u001b[39mraise\u001b[39;00m \u001b[39mRuntimeError\u001b[39;00m(\u001b[39m\"\u001b[39m\u001b[39mgenerator didn\u001b[39m\u001b[39m'\u001b[39m\u001b[39mt yield\u001b[39m\u001b[39m\"\u001b[39m) \u001b[39mfrom\u001b[39;00m \u001b[39mNone\u001b[39;00m\n",
      "File \u001b[1;32mc:\\Users\\besff\\AppData\\Local\\pypoetry\\Cache\\virtualenvs\\centilliondataback-HDv_8VdR-py3.11\\Lib\\site-packages\\pymongo\\mongo_client.py:1885\u001b[0m, in \u001b[0;36mMongoClient._tmp_session\u001b[1;34m(self, session, close)\u001b[0m\n\u001b[0;32m   1882\u001b[0m     \u001b[39myield\u001b[39;00m session\n\u001b[0;32m   1883\u001b[0m     \u001b[39mreturn\u001b[39;00m\n\u001b[1;32m-> 1885\u001b[0m s \u001b[39m=\u001b[39m \u001b[39mself\u001b[39;49m\u001b[39m.\u001b[39;49m_ensure_session(session)\n\u001b[0;32m   1886\u001b[0m \u001b[39mif\u001b[39;00m s:\n\u001b[0;32m   1887\u001b[0m     \u001b[39mtry\u001b[39;00m:\n",
      "File \u001b[1;32mc:\\Users\\besff\\AppData\\Local\\pypoetry\\Cache\\virtualenvs\\centilliondataback-HDv_8VdR-py3.11\\Lib\\site-packages\\pymongo\\mongo_client.py:1868\u001b[0m, in \u001b[0;36mMongoClient._ensure_session\u001b[1;34m(self, session)\u001b[0m\n\u001b[0;32m   1863\u001b[0m     \u001b[39mreturn\u001b[39;00m session\n\u001b[0;32m   1865\u001b[0m \u001b[39mtry\u001b[39;00m:\n\u001b[0;32m   1866\u001b[0m     \u001b[39m# Don't make implicit sessions causally consistent. Applications\u001b[39;00m\n\u001b[0;32m   1867\u001b[0m     \u001b[39m# should always opt-in.\u001b[39;00m\n\u001b[1;32m-> 1868\u001b[0m     \u001b[39mreturn\u001b[39;00m \u001b[39mself\u001b[39;49m\u001b[39m.\u001b[39;49m__start_session(\u001b[39mTrue\u001b[39;49;00m, causal_consistency\u001b[39m=\u001b[39;49m\u001b[39mFalse\u001b[39;49;00m)\n\u001b[0;32m   1869\u001b[0m \u001b[39mexcept\u001b[39;00m (ConfigurationError, InvalidOperation):\n\u001b[0;32m   1870\u001b[0m     \u001b[39m# Sessions not supported.\u001b[39;00m\n\u001b[0;32m   1871\u001b[0m     \u001b[39mreturn\u001b[39;00m \u001b[39mNone\u001b[39;00m\n",
      "File \u001b[1;32mc:\\Users\\besff\\AppData\\Local\\pypoetry\\Cache\\virtualenvs\\centilliondataback-HDv_8VdR-py3.11\\Lib\\site-packages\\pymongo\\mongo_client.py:1811\u001b[0m, in \u001b[0;36mMongoClient.__start_session\u001b[1;34m(self, implicit, **kwargs)\u001b[0m\n\u001b[0;32m   1808\u001b[0m \u001b[39mdef\u001b[39;00m \u001b[39m__start_session\u001b[39m(\u001b[39mself\u001b[39m, implicit: \u001b[39mbool\u001b[39m, \u001b[39m*\u001b[39m\u001b[39m*\u001b[39mkwargs: Any) \u001b[39m-\u001b[39m\u001b[39m>\u001b[39m ClientSession:\n\u001b[0;32m   1809\u001b[0m     \u001b[39m# Raises ConfigurationError if sessions are not supported.\u001b[39;00m\n\u001b[0;32m   1810\u001b[0m     \u001b[39mif\u001b[39;00m implicit:\n\u001b[1;32m-> 1811\u001b[0m         \u001b[39mself\u001b[39;49m\u001b[39m.\u001b[39;49m_topology\u001b[39m.\u001b[39;49m_check_implicit_session_support()\n\u001b[0;32m   1812\u001b[0m         server_session: Union[_EmptyServerSession, _ServerSession] \u001b[39m=\u001b[39m _EmptyServerSession()\n\u001b[0;32m   1813\u001b[0m     \u001b[39melse\u001b[39;00m:\n",
      "File \u001b[1;32mc:\\Users\\besff\\AppData\\Local\\pypoetry\\Cache\\virtualenvs\\centilliondataback-HDv_8VdR-py3.11\\Lib\\site-packages\\pymongo\\topology.py:583\u001b[0m, in \u001b[0;36mTopology._check_implicit_session_support\u001b[1;34m(self)\u001b[0m\n\u001b[0;32m    581\u001b[0m \u001b[39mdef\u001b[39;00m \u001b[39m_check_implicit_session_support\u001b[39m(\u001b[39mself\u001b[39m) \u001b[39m-\u001b[39m\u001b[39m>\u001b[39m \u001b[39mNone\u001b[39;00m:\n\u001b[0;32m    582\u001b[0m     \u001b[39mwith\u001b[39;00m \u001b[39mself\u001b[39m\u001b[39m.\u001b[39m_lock:\n\u001b[1;32m--> 583\u001b[0m         \u001b[39mself\u001b[39;49m\u001b[39m.\u001b[39;49m_check_session_support()\n",
      "File \u001b[1;32mc:\\Users\\besff\\AppData\\Local\\pypoetry\\Cache\\virtualenvs\\centilliondataback-HDv_8VdR-py3.11\\Lib\\site-packages\\pymongo\\topology.py:599\u001b[0m, in \u001b[0;36mTopology._check_session_support\u001b[1;34m(self)\u001b[0m\n\u001b[0;32m    595\u001b[0m         \u001b[39mself\u001b[39m\u001b[39m.\u001b[39m_select_servers_loop(\n\u001b[0;32m    596\u001b[0m             any_server_selector, \u001b[39mself\u001b[39m\u001b[39m.\u001b[39mget_server_selection_timeout(), \u001b[39mNone\u001b[39;00m\n\u001b[0;32m    597\u001b[0m         )\n\u001b[0;32m    598\u001b[0m \u001b[39melif\u001b[39;00m \u001b[39mnot\u001b[39;00m \u001b[39mself\u001b[39m\u001b[39m.\u001b[39m_description\u001b[39m.\u001b[39mreadable_servers:\n\u001b[1;32m--> 599\u001b[0m     \u001b[39mself\u001b[39;49m\u001b[39m.\u001b[39;49m_select_servers_loop(\n\u001b[0;32m    600\u001b[0m         readable_server_selector, \u001b[39mself\u001b[39;49m\u001b[39m.\u001b[39;49mget_server_selection_timeout(), \u001b[39mNone\u001b[39;49;00m\n\u001b[0;32m    601\u001b[0m     )\n\u001b[0;32m    603\u001b[0m session_timeout \u001b[39m=\u001b[39m \u001b[39mself\u001b[39m\u001b[39m.\u001b[39m_description\u001b[39m.\u001b[39mlogical_session_timeout_minutes\n\u001b[0;32m    604\u001b[0m \u001b[39mif\u001b[39;00m session_timeout \u001b[39mis\u001b[39;00m \u001b[39mNone\u001b[39;00m:\n",
      "File \u001b[1;32mc:\\Users\\besff\\AppData\\Local\\pypoetry\\Cache\\virtualenvs\\centilliondataback-HDv_8VdR-py3.11\\Lib\\site-packages\\pymongo\\topology.py:280\u001b[0m, in \u001b[0;36mTopology._select_servers_loop\u001b[1;34m(self, selector, timeout, address)\u001b[0m\n\u001b[0;32m    274\u001b[0m \u001b[39mself\u001b[39m\u001b[39m.\u001b[39m_request_check_all()\n\u001b[0;32m    276\u001b[0m \u001b[39m# Release the lock and wait for the topology description to\u001b[39;00m\n\u001b[0;32m    277\u001b[0m \u001b[39m# change, or for a timeout. We won't miss any changes that\u001b[39;00m\n\u001b[0;32m    278\u001b[0m \u001b[39m# came after our most recent apply_selector call, since we've\u001b[39;00m\n\u001b[0;32m    279\u001b[0m \u001b[39m# held the lock until now.\u001b[39;00m\n\u001b[1;32m--> 280\u001b[0m \u001b[39mself\u001b[39;49m\u001b[39m.\u001b[39;49m_condition\u001b[39m.\u001b[39;49mwait(common\u001b[39m.\u001b[39;49mMIN_HEARTBEAT_INTERVAL)\n\u001b[0;32m    281\u001b[0m \u001b[39mself\u001b[39m\u001b[39m.\u001b[39m_description\u001b[39m.\u001b[39mcheck_compatible()\n\u001b[0;32m    282\u001b[0m now \u001b[39m=\u001b[39m time\u001b[39m.\u001b[39mmonotonic()\n",
      "File \u001b[1;32m~\\.pyenv\\pyenv-win\\versions\\3.11.2\\Lib\\threading.py:324\u001b[0m, in \u001b[0;36mCondition.wait\u001b[1;34m(self, timeout)\u001b[0m\n\u001b[0;32m    322\u001b[0m \u001b[39melse\u001b[39;00m:\n\u001b[0;32m    323\u001b[0m     \u001b[39mif\u001b[39;00m timeout \u001b[39m>\u001b[39m \u001b[39m0\u001b[39m:\n\u001b[1;32m--> 324\u001b[0m         gotit \u001b[39m=\u001b[39m waiter\u001b[39m.\u001b[39;49macquire(\u001b[39mTrue\u001b[39;49;00m, timeout)\n\u001b[0;32m    325\u001b[0m     \u001b[39melse\u001b[39;00m:\n\u001b[0;32m    326\u001b[0m         gotit \u001b[39m=\u001b[39m waiter\u001b[39m.\u001b[39macquire(\u001b[39mFalse\u001b[39;00m)\n",
      "\u001b[1;31mKeyboardInterrupt\u001b[0m: "
     ]
    }
   ],
   "source": [
    "import pandas as pd\n",
    "from pymongo import MongoClient\n",
    "\n",
    "client = MongoClient('mongodb://db:27017/')\n",
    "db = client['driverhero']\n",
    "collection = db['leads_de']\n",
    "# # Read the data\n",
    "df = pd.read_csv('4.csv')\n",
    "df = df.to_dict('records')\n",
    " \n",
    "# # Insert collection\n",
    "collection.insert_many(df)"
   ]
  }
 ],
 "metadata": {
  "kernelspec": {
   "display_name": "centilliondataback-HDv_8VdR-py3.11",
   "language": "python",
   "name": "python3"
  },
  "language_info": {
   "codemirror_mode": {
    "name": "ipython",
    "version": 3
   },
   "file_extension": ".py",
   "mimetype": "text/x-python",
   "name": "python",
   "nbconvert_exporter": "python",
   "pygments_lexer": "ipython3",
   "version": "3.11.2"
  }
 },
 "nbformat": 4,
 "nbformat_minor": 2
}
